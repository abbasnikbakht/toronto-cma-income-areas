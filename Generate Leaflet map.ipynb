{
 "cells": [
  {
   "cell_type": "code",
   "execution_count": 4,
   "metadata": {},
   "outputs": [],
   "source": [
    "import pandas as pd\n",
    "import folium"
   ]
  },
  {
   "cell_type": "markdown",
   "metadata": {},
   "source": [
    "## Get 2016 personal income data for Toronto area by census tract\n",
    "1. Download Census tract data https://www12.statcan.gc.ca/census-recensement/2016/dp-pd/prof/details/page_Download-Telecharger.cfm?Lang=E&Tab=1&Geo1=CSD&Code1=3520005&Geo2=PR&Code2=35&Data=Count&SearchText=Toronto&SearchType=Begins&SearchPR=01&B1=All&TABID=1\n",
    "1. Unzip and save it in the same folder as this notebook (about 1.3Gb unzipped)\n",
    "1. Run the following code to generate two files: income, and income as percent of Toronto (both files are by census tract)\n",
    "1. Census tracts are filtered to Toronto area (those starting with 535)\n",
    "\n",
    "We select `Median total income in 2015 among recipients ($)` variable.\n",
    "\n",
    "**To calculate %, divide it by Toronto value of 30,089** (taken from https://www12.statcan.gc.ca/census-recensement/2016/dp-pd/prof/details/page.cfm?Lang=E&Geo1=CSD&Geo2=PR&Code2=01&SearchType=Begins&SearchPR=01&TABID=1&B1=All&type=0&Code1=3520005&SearchText=toronto)"
   ]
  },
  {
   "cell_type": "code",
   "execution_count": 113,
   "metadata": {},
   "outputs": [],
   "source": [
    "census2016 = pd.read_csv('./98-401-X2016043_English_CSV_data.csv', dtype={1:str, 3: str, 11: str})"
   ]
  },
  {
   "cell_type": "code",
   "execution_count": 148,
   "metadata": {},
   "outputs": [],
   "source": [
    "# Extract `Median total income in 2015 among recipients ($)` variable\n",
    "census2016_income = census2016[\n",
    "        (census2016['DIM: Profile of Census Tracts (2247)'] == 'Median total income in 2015 among recipients ($)')\n",
    "        & (census2016['GEO_CODE (POR)'].str.startswith('535'))\n",
    "    ].filter(['GEO_CODE (POR)', 'Dim: Sex (3): Member ID: [1]: Total - Sex'])\n",
    "\n",
    "# Rename columns\n",
    "census2016_income.columns = ['Tract', 'Income']\n",
    "census2016_income = census2016_income.set_index('Tract')\n",
    "\n",
    "# Remove 'x' in income\n",
    "census2016_income.Income = pd.to_numeric(census2016_income.Income, errors='coerce')\n",
    "\n",
    "# Save (small file size, acceptable for GitHub)\n",
    "census2016_income.to_csv('./census2016-income.csv', index=True)\n",
    "\n",
    "# Save income as percent into a separate file\n",
    "round(census2016_income / 30089 * 100, 1).to_csv('./census2016-income-as-percent.csv', index=True)"
   ]
  },
  {
   "cell_type": "markdown",
   "metadata": {},
   "source": [
    "## Create a Leaflet map with `folium`"
   ]
  },
  {
   "cell_type": "code",
   "execution_count": 37,
   "metadata": {},
   "outputs": [
    {
     "data": {
      "text/plain": [
       "<folium.raster_layers.TileLayer at 0x11b67c310>"
      ]
     },
     "execution_count": 37,
     "metadata": {},
     "output_type": "execute_result"
    }
   ],
   "source": [
    "# Initialize map\n",
    "m = folium.Map(\n",
    "    location=[43.6529, -79.3849],\n",
    "    tiles=None,\n",
    "    zoom_start=12\n",
    ")\n",
    "\n",
    "# Add CartoDB Positron baselayer\n",
    "folium.TileLayer(\n",
    "    tiles='CartoDB positron',\n",
    "    control=False,\n",
    "    zoom_start=12\n",
    ").add_to(m)"
   ]
  },
  {
   "cell_type": "markdown",
   "metadata": {},
   "source": [
    "### Add Choropleth"
   ]
  },
  {
   "cell_type": "code",
   "execution_count": 38,
   "metadata": {},
   "outputs": [],
   "source": [
    "# Read income data file for choropleth\n",
    "census2016_income_percent = pd.Series( pd.read_csv('./census2016-income-as-percent.csv', dtype={0: str}).set_index('Tract').Income )\n",
    "\n",
    "# Read census tracts GeoJSON\n",
    "tracts = gpd.read_file('geodata/toronto-cma-tracts-2016-statcan-simplified.geojson').filter(['CTUID', 'geometry'])\n",
    "\n",
    "# Attach Income column to tracts in order to be able to display it in a tooltip\n",
    "tracts['Income'] = tracts.CTUID.apply(lambda x: census2016_income_percent.loc[x])"
   ]
  },
  {
   "cell_type": "code",
   "execution_count": 39,
   "metadata": {},
   "outputs": [
    {
     "data": {
      "text/plain": [
       "<folium.features.Choropleth at 0x11abaae50>"
      ]
     },
     "execution_count": 39,
     "metadata": {},
     "output_type": "execute_result"
    }
   ],
   "source": [
    "income_choropleth = folium.Choropleth(\n",
    "    #geo_data=f'geodata/toronto-cma-tracts-2016-statcan-simplified.geojson',\n",
    "    geo_data=tracts,\n",
    "    name='Income',\n",
    "    bins=[40, 60, 80, 100, 120, 140, 180, 270],\n",
    "    data=census2016_income_percent,\n",
    "    #columns=['Tract', 'Income'],\n",
    "    key_on='feature.properties.CTUID',\n",
    "    fill_color='RdBu',\n",
    "    line_weight=1,\n",
    "    line_color='white',\n",
    "    nan_fill_color='silver',\n",
    "    fill_opacity=0.7,\n",
    "    line_opacity=0.2,\n",
    "    legend_name=\"Median Personal Income as % of Toronto\",\n",
    "    #overlay=True,\n",
    "    highlight=True\n",
    ")\n",
    "\n",
    "# Add Tooltip data\n",
    "folium.GeoJsonTooltip(fields=['CTUID', 'Income'], aliases=['Census Tract', 'Income as %']).add_to(income_choropleth.geojson)\n",
    "\n",
    "# Add choropleth to the map\n",
    "income_choropleth.add_to(m)"
   ]
  },
  {
   "cell_type": "markdown",
   "metadata": {},
   "source": [
    "### Add Toronto+neighborhood overlays"
   ]
  },
  {
   "cell_type": "code",
   "execution_count": 40,
   "metadata": {},
   "outputs": [
    {
     "data": {
      "text/plain": [
       "<folium.features.GeoJson at 0x11a204dc0>"
      ]
     },
     "execution_count": 40,
     "metadata": {},
     "output_type": "execute_result"
    }
   ],
   "source": [
    "# Toronto\n",
    "folium.GeoJson(\n",
    "    f'geodata/toronto-cma-boundary-2016-dli.geojson',\n",
    "    name='Toronto',\n",
    "    control=False,\n",
    "    style_function=lambda x: {\n",
    "        'fillOpacity': 0,\n",
    "        'color': 'black',\n",
    "        'weight': '1',\n",
    "        'interactive': False\n",
    "    }\n",
    ").add_to(m)\n",
    "\n",
    "# Etobicoke\n",
    "folium.GeoJson(\n",
    "    f'geodata/etobicoke-boundary-osm.geojson',\n",
    "    name='Etobicoke',\n",
    "    style_function=lambda x: {\n",
    "        'fillOpacity': 0,\n",
    "        'color': 'orange',\n",
    "        'weight': '4',\n",
    "        'interactive': False\n",
    "    }\n",
    ").add_to(m)\n",
    "\n",
    "# Forrest Hill\n",
    "folium.GeoJson(\n",
    "    f'geodata/forest-hill-boundary-1961-dli.geojson',\n",
    "    name='Forest Hill',\n",
    "    style_function=lambda x: {\n",
    "        'fillOpacity': 0,\n",
    "        'color': 'purple',\n",
    "        'weight': '4',\n",
    "        'interactive': False\n",
    "    }\n",
    ").add_to(m)\n",
    "\n",
    "# Scarborough\n",
    "folium.GeoJson(\n",
    "    f'geodata/scarborough-boundary-osm.geojson',\n",
    "    name='Scarborough',\n",
    "    style_function=lambda x: {\n",
    "        'fillOpacity': 0,\n",
    "        'color': 'green',\n",
    "        'weight': '4',\n",
    "        'interactive': False\n",
    "    }\n",
    ").add_to(m)\n",
    "\n",
    "# York\n",
    "folium.GeoJson(\n",
    "    f'geodata/york-boundary-osm.geojson',\n",
    "    name='York',\n",
    "    style_function=lambda x: {\n",
    "        'fillOpacity': 0,\n",
    "        'color': 'gray',\n",
    "        'weight': '4',\n",
    "        'interactive': False\n",
    "    }\n",
    ").add_to(m)"
   ]
  },
  {
   "cell_type": "markdown",
   "metadata": {},
   "source": [
    "### Final touches and save!"
   ]
  },
  {
   "cell_type": "code",
   "execution_count": 41,
   "metadata": {},
   "outputs": [],
   "source": [
    "# Add layer control\n",
    "folium.LayerControl(collapsed=False).add_to(m)\n",
    "\n",
    "# And all done!\n",
    "m.save('index.html')"
   ]
  },
  {
   "cell_type": "markdown",
   "metadata": {},
   "source": [
    "## Manual additions to the generated HTML map\n",
    "\n",
    "#### To add lines to the legend with neighbourhoods boundaries\n",
    "```js\n",
    "<span style='background:green;display:inline-block;vertical-align:middle;height:5px;width:25px;'></span>\n",
    "```\n",
    "\n",
    "#### To keep choropleth underneath neighbourhood boundaries\n",
    "```js\n",
    "choropleth_8926c1b6196e461e85cde667cbe9d1dd.on('add', function() {\n",
    "  this.bringToBack();\n",
    "}); \n",
    "```"
   ]
  },
  {
   "cell_type": "code",
   "execution_count": null,
   "metadata": {},
   "outputs": [],
   "source": []
  },
  {
   "cell_type": "code",
   "execution_count": null,
   "metadata": {},
   "outputs": [],
   "source": []
  }
 ],
 "metadata": {
  "kernelspec": {
   "display_name": "Python 3.8.1 64-bit ('gis': conda)",
   "language": "python",
   "name": "python38164bitgiscondaf3b0cb5d1bf74b59a9777bd4a328c48a"
  },
  "language_info": {
   "codemirror_mode": {
    "name": "ipython",
    "version": 3
   },
   "file_extension": ".py",
   "mimetype": "text/x-python",
   "name": "python",
   "nbconvert_exporter": "python",
   "pygments_lexer": "ipython3",
   "version": "3.8.1"
  }
 },
 "nbformat": 4,
 "nbformat_minor": 4
}
